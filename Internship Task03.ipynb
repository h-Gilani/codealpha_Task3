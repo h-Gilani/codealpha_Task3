{
 "cells": [
  {
   "cell_type": "markdown",
   "id": "d46cdb44-af53-4518-aa8e-c08d08770d9d",
   "metadata": {},
   "source": [
    "                                        CREDIT SCORING MODEL\n",
    "                * Build a credit scoring model to predict the creditworthiness of applicants.\\n\n",
    "                * Use features like income, debt, and credit history."
   ]
  },
  {
   "cell_type": "markdown",
   "id": "09640d6f-4b6f-4376-a6fa-aa239e82bb23",
   "metadata": {},
   "source": [
    "Import Libraries & Load Data"
   ]
  },
  {
   "cell_type": "code",
   "execution_count": 81,
   "id": "f7f11edc-cd9e-4591-bbb3-8be8fe438f6f",
   "metadata": {},
   "outputs": [],
   "source": [
    "import pandas as pd\n",
    "import numpy as np\n",
    "from sklearn.model_selection import train_test_split\n",
    "from sklearn.preprocessing import StandardScaler\n",
    "from sklearn.ensemble import RandomForestClassifier\n",
    "from sklearn.metrics import classification_report, accuracy_score, confusion_matrix\n",
    "import matplotlib.pyplot as plt\n",
    "import seaborn as sns\n",
    "from sklearn.impute import SimpleImputer"
   ]
  },
  {
   "cell_type": "code",
   "execution_count": 82,
   "id": "be608270-9ddd-4120-885b-55a91ac0dcfb",
   "metadata": {},
   "outputs": [],
   "source": [
    "data = pd.read_csv('credit_data.csv')"
   ]
  },
  {
   "cell_type": "code",
   "execution_count": null,
   "id": "0d42e4b8-c5b3-4d03-9030-93b74c77df67",
   "metadata": {},
   "outputs": [],
   "source": []
  },
  {
   "cell_type": "markdown",
   "id": "fe7977e1-58b9-471d-9688-18752b2bae99",
   "metadata": {},
   "source": [
    "Data Processing"
   ]
  },
  {
   "cell_type": "code",
   "execution_count": 83,
   "id": "9b37bc37-4d95-495e-be13-2fe5c9cf6994",
   "metadata": {},
   "outputs": [
    {
     "name": "stdout",
     "output_type": "stream",
     "text": [
      "Processing data...\n",
      "\n",
      " clientid            int64\n",
      "income            float64\n",
      "age               float64\n",
      "loan              float64\n",
      "default             int64\n",
      "credit_history     object\n",
      "dtype: object\n",
      "\n",
      "\n",
      "Preprocessing and scaling completed successfully!\n"
     ]
    }
   ],
   "source": [
    "print(\"Processing data...\")\n",
    "\n",
    "numeric_features = ['income', 'age', 'loan']\n",
    "categorical_features = ['credit_history']\n",
    "\n",
    "print(\"\\n\",data.dtypes)\n",
    "\n",
    "numeric_imputer = SimpleImputer(strategy='median')\n",
    "data[numeric_features] = numeric_imputer.fit_transform(data[numeric_features])\n",
    "\n",
    "# Encode categorical column separately\n",
    "data['credit_history'] = data['credit_history'].map({\n",
    "    'good': 1,\n",
    "    'critical account/ other credits existing (not at this bank)': 0,\n",
    "    'all credits at this bank paid back duly': 2,\n",
    "    'delay in paying off in the past': 3\n",
    "})\n",
    "\n",
    "\n",
    "if data['credit_history'].isnull().sum() > 0:\n",
    "    data['credit_history'].fillna(0, inplace=True)\n",
    "\n",
    "\n",
    "X = data[['income', 'age', 'loan', 'credit_history']]\n",
    "y = data['default']\n",
    "\n",
    "\n",
    "X_train, X_test, y_train, y_test = train_test_split(X, y, test_size=0.3, random_state=42)\n",
    "\n",
    "print(\"\\n\")\n",
    "\n",
    "scaler = StandardScaler()\n",
    "X_train_scaled = scaler.fit_transform(X_train)\n",
    "X_test_scaled = scaler.transform(X_test)\n",
    "\n",
    "print(\"Preprocessing and scaling completed successfully!\")"
   ]
  },
  {
   "cell_type": "code",
   "execution_count": 84,
   "id": "44541670-3d01-4c04-b081-7dc06978db17",
   "metadata": {},
   "outputs": [
    {
     "name": "stdout",
     "output_type": "stream",
     "text": [
      "X_train_scaled type: <class 'numpy.ndarray'>\n",
      "y_train type: int64\n"
     ]
    }
   ],
   "source": [
    "print(f'X_train_scaled type: {type(X_train_scaled)}') \n",
    "print(f'y_train type: {y_train.dtype}') "
   ]
  },
  {
   "cell_type": "code",
   "execution_count": null,
   "id": "b4c4303b-cd57-49e1-9737-5effa5ebed4f",
   "metadata": {},
   "outputs": [],
   "source": []
  },
  {
   "cell_type": "markdown",
   "id": "7830ca57-4486-4235-941d-fae55fea3ea5",
   "metadata": {},
   "source": [
    "Model Training & Evaluation"
   ]
  },
  {
   "cell_type": "code",
   "execution_count": 85,
   "id": "33d4b959-9297-47d9-8d21-b01bcdcedaa8",
   "metadata": {},
   "outputs": [
    {
     "data": {
      "text/html": [
       "<style>#sk-container-id-2 {color: black;background-color: white;}#sk-container-id-2 pre{padding: 0;}#sk-container-id-2 div.sk-toggleable {background-color: white;}#sk-container-id-2 label.sk-toggleable__label {cursor: pointer;display: block;width: 100%;margin-bottom: 0;padding: 0.3em;box-sizing: border-box;text-align: center;}#sk-container-id-2 label.sk-toggleable__label-arrow:before {content: \"▸\";float: left;margin-right: 0.25em;color: #696969;}#sk-container-id-2 label.sk-toggleable__label-arrow:hover:before {color: black;}#sk-container-id-2 div.sk-estimator:hover label.sk-toggleable__label-arrow:before {color: black;}#sk-container-id-2 div.sk-toggleable__content {max-height: 0;max-width: 0;overflow: hidden;text-align: left;background-color: #f0f8ff;}#sk-container-id-2 div.sk-toggleable__content pre {margin: 0.2em;color: black;border-radius: 0.25em;background-color: #f0f8ff;}#sk-container-id-2 input.sk-toggleable__control:checked~div.sk-toggleable__content {max-height: 200px;max-width: 100%;overflow: auto;}#sk-container-id-2 input.sk-toggleable__control:checked~label.sk-toggleable__label-arrow:before {content: \"▾\";}#sk-container-id-2 div.sk-estimator input.sk-toggleable__control:checked~label.sk-toggleable__label {background-color: #d4ebff;}#sk-container-id-2 div.sk-label input.sk-toggleable__control:checked~label.sk-toggleable__label {background-color: #d4ebff;}#sk-container-id-2 input.sk-hidden--visually {border: 0;clip: rect(1px 1px 1px 1px);clip: rect(1px, 1px, 1px, 1px);height: 1px;margin: -1px;overflow: hidden;padding: 0;position: absolute;width: 1px;}#sk-container-id-2 div.sk-estimator {font-family: monospace;background-color: #f0f8ff;border: 1px dotted black;border-radius: 0.25em;box-sizing: border-box;margin-bottom: 0.5em;}#sk-container-id-2 div.sk-estimator:hover {background-color: #d4ebff;}#sk-container-id-2 div.sk-parallel-item::after {content: \"\";width: 100%;border-bottom: 1px solid gray;flex-grow: 1;}#sk-container-id-2 div.sk-label:hover label.sk-toggleable__label {background-color: #d4ebff;}#sk-container-id-2 div.sk-serial::before {content: \"\";position: absolute;border-left: 1px solid gray;box-sizing: border-box;top: 0;bottom: 0;left: 50%;z-index: 0;}#sk-container-id-2 div.sk-serial {display: flex;flex-direction: column;align-items: center;background-color: white;padding-right: 0.2em;padding-left: 0.2em;position: relative;}#sk-container-id-2 div.sk-item {position: relative;z-index: 1;}#sk-container-id-2 div.sk-parallel {display: flex;align-items: stretch;justify-content: center;background-color: white;position: relative;}#sk-container-id-2 div.sk-item::before, #sk-container-id-2 div.sk-parallel-item::before {content: \"\";position: absolute;border-left: 1px solid gray;box-sizing: border-box;top: 0;bottom: 0;left: 50%;z-index: -1;}#sk-container-id-2 div.sk-parallel-item {display: flex;flex-direction: column;z-index: 1;position: relative;background-color: white;}#sk-container-id-2 div.sk-parallel-item:first-child::after {align-self: flex-end;width: 50%;}#sk-container-id-2 div.sk-parallel-item:last-child::after {align-self: flex-start;width: 50%;}#sk-container-id-2 div.sk-parallel-item:only-child::after {width: 0;}#sk-container-id-2 div.sk-dashed-wrapped {border: 1px dashed gray;margin: 0 0.4em 0.5em 0.4em;box-sizing: border-box;padding-bottom: 0.4em;background-color: white;}#sk-container-id-2 div.sk-label label {font-family: monospace;font-weight: bold;display: inline-block;line-height: 1.2em;}#sk-container-id-2 div.sk-label-container {text-align: center;}#sk-container-id-2 div.sk-container {/* jupyter's `normalize.less` sets `[hidden] { display: none; }` but bootstrap.min.css set `[hidden] { display: none !important; }` so we also need the `!important` here to be able to override the default hidden behavior on the sphinx rendered scikit-learn.org. See: https://github.com/scikit-learn/scikit-learn/issues/21755 */display: inline-block !important;position: relative;}#sk-container-id-2 div.sk-text-repr-fallback {display: none;}</style><div id=\"sk-container-id-2\" class=\"sk-top-container\"><div class=\"sk-text-repr-fallback\"><pre>RandomForestClassifier(random_state=42)</pre><b>In a Jupyter environment, please rerun this cell to show the HTML representation or trust the notebook. <br />On GitHub, the HTML representation is unable to render, please try loading this page with nbviewer.org.</b></div><div class=\"sk-container\" hidden><div class=\"sk-item\"><div class=\"sk-estimator sk-toggleable\"><input class=\"sk-toggleable__control sk-hidden--visually\" id=\"sk-estimator-id-2\" type=\"checkbox\" checked><label for=\"sk-estimator-id-2\" class=\"sk-toggleable__label sk-toggleable__label-arrow\">RandomForestClassifier</label><div class=\"sk-toggleable__content\"><pre>RandomForestClassifier(random_state=42)</pre></div></div></div></div></div>"
      ],
      "text/plain": [
       "RandomForestClassifier(random_state=42)"
      ]
     },
     "execution_count": 85,
     "metadata": {},
     "output_type": "execute_result"
    }
   ],
   "source": [
    "rf_clf = RandomForestClassifier(n_estimators=100, random_state=42)\n",
    "rf_clf.fit(X_train_scaled, y_train)"
   ]
  },
  {
   "cell_type": "code",
   "execution_count": 86,
   "id": "e9523001-42fd-491c-9120-b98049c10604",
   "metadata": {},
   "outputs": [
    {
     "name": "stdout",
     "output_type": "stream",
     "text": [
      "Accuracy: 0.9866666666666667\n",
      "Classification Report:\n",
      "               precision    recall  f1-score   support\n",
      "\n",
      "           0       0.98      1.00      0.99       508\n",
      "           1       1.00      0.91      0.95        92\n",
      "\n",
      "    accuracy                           0.99       600\n",
      "   macro avg       0.99      0.96      0.97       600\n",
      "weighted avg       0.99      0.99      0.99       600\n",
      "\n"
     ]
    }
   ],
   "source": [
    "y_pred = rf_clf.predict(X_test_scaled)\n",
    "\n",
    "print(\"Accuracy:\", accuracy_score(y_test, y_pred))\n",
    "print(\"Classification Report:\\n\", classification_report(y_test, y_pred))"
   ]
  },
  {
   "cell_type": "code",
   "execution_count": null,
   "id": "7dd090c7-7886-4dfe-9cfb-81a5abdeede6",
   "metadata": {},
   "outputs": [],
   "source": []
  },
  {
   "cell_type": "markdown",
   "id": "8e5f2f1e-ccec-4e69-92c7-2130b4bbbfd2",
   "metadata": {},
   "source": [
    "Confusion Matrics"
   ]
  },
  {
   "cell_type": "code",
   "execution_count": 87,
   "id": "01348bf0-1d1e-4d2b-bcb6-6462f93a85cb",
   "metadata": {},
   "outputs": [
    {
     "data": {
      "image/png": "[encoded data removed]",
      "text/plain": [
       "<Figure size 800x600 with 2 Axes>"
      ]
     },
     "metadata": {},
     "output_type": "display_data"
    }
   ],
   "source": [
    "conf_matrix = confusion_matrix(y_test, y_pred)\n",
    "plt.figure(figsize=(8, 6))\n",
    "sns.heatmap(conf_matrix, annot=True, fmt='d', cmap='Blues')\n",
    "plt.xlabel('Predicted')\n",
    "plt.ylabel('Actual')\n",
    "plt.title('Confusion Matrix')\n",
    "plt.show()\n"
   ]
  },
  {
   "cell_type": "code",
   "execution_count": null,
   "id": "bc9be7a0-d6da-4ae6-bfbb-c24207670cb9",
   "metadata": {},
   "outputs": [],
   "source": []
  },
  {
   "cell_type": "markdown",
   "id": "271cf417-f945-4309-b46e-89e3f8560cdf",
   "metadata": {},
   "source": [
    "Prediction"
   ]
  },
  {
   "cell_type": "code",
   "execution_count": 89,
   "id": "e36a2655-68f8-41a7-bb9d-0c4fc29e7315",
   "metadata": {},
   "outputs": [
    {
     "name": "stdout",
     "output_type": "stream",
     "text": [
      "Predictions for new data: [0 0]\n"
     ]
    }
   ],
   "source": [
    "new_data = pd.DataFrame({\n",
    "    'income': [50000, 75000],       \n",
    "    'age': [35, 50],               \n",
    "    'loan': [15000, 25000],          \n",
    "    'credit_history': ['good', 'bad'] \n",
    "})\n",
    "\n",
    "\n",
    "new_data['credit_history'] = new_data['credit_history'].map({\n",
    "    'good': 1,\n",
    "    'critical account/ other credits existing (not at this bank)': 0,\n",
    "    'all credits at this bank paid back duly': 2,\n",
    "    'delay in paying off in the past': 3,\n",
    "    'bad': 0 \n",
    "})\n",
    "\n",
    "if new_data['credit_history'].isnull().sum() > 0:\n",
    "    new_data['credit_history'].fillna(0, inplace=True)\n",
    "\n",
    "\n",
    "new_data = new_data[['income', 'age', 'loan', 'credit_history']]\n",
    "\n",
    "new_data_scaled = scaler.transform(new_data)\n",
    "\n",
    "predictions = rf_clf.predict(new_data_scaled)\n",
    "\n",
    "print(\"Predictions for new data:\", predictions)\n"
   ]
  },
  {
   "cell_type": "code",
   "execution_count": null,
   "id": "6cfc2309-3bdc-4f8f-9be6-90ebfa30db24",
   "metadata": {},
   "outputs": [],
   "source": []
  },
  {
   "cell_type": "markdown",
   "id": "7750da5f-1992-4a37-b426-eb6eeacb8b34",
   "metadata": {},
   "source": [
    "As a result:"
   ]
  },
  {
   "cell_type": "markdown",
   "id": "f052f9af-dae0-4e60-a8a0-c20e14c797b3",
   "metadata": {},
   "source": [
    "Applicant 1 and Applicant 2 are both predicted to not default on their credit obligations based on the model’s output."
   ]
  },
  {
   "cell_type": "markdown",
   "id": "677d81c1-0a50-43eb-9733-5cb6be56a6ec",
   "metadata": {},
   "source": [
    "This result indicates that the model assesses both individuals as having a lower risk of defaulting."
   ]
  },
  {
   "cell_type": "code",
   "execution_count": null,
   "id": "2b3ea117-e627-4068-8b7f-9457efbd7bf2",
   "metadata": {},
   "outputs": [],
   "source": []
  }
 ],
 "metadata": {
  "kernelspec": {
   "display_name": "Python 3 (ipykernel)",
   "language": "python",
   "name": "python3"
  },
  "language_info": {
   "codemirror_mode": {
    "name": "ipython",
    "version": 3
   },
   "file_extension": ".py",
   "mimetype": "text/x-python",
   "name": "python",
   "nbconvert_exporter": "python",
   "pygments_lexer": "ipython3",
   "version": "3.11.7"
  }
 },
 "nbformat": 4,
 "nbformat_minor": 5
}
